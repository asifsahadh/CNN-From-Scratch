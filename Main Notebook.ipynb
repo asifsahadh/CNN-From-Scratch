{
 "cells": [
  {
   "cell_type": "markdown",
   "id": "83136a32-50e7-4d3f-90aa-0c09c93112af",
   "metadata": {},
   "source": [
    "## CNN Engineering from Scratch | Chihuaha or Muffin?"
   ]
  },
  {
   "cell_type": "markdown",
   "id": "5e6ba4e5-aadd-43d6-b855-937b6e6e62b6",
   "metadata": {},
   "source": [
    "<p style='text-align: justify;'> It has been a while since the meme titled 'How to Confuse Machine Learning' has been revolving around the internet. The meme humorously showcases a set of images with Chihuahuas and blueberry muffins that look so similar that even a human might get confused in identifying which is which. Despite the difficulty, I wondered if it is actually confusing for an ML model to detect the difference. </p>\n",
    "    \n",
    "<p style='text-align: justify;'> During my deep learning studies, I was fascinated by the architecture, mathematics, and the working of neural networks. I decided to work on building a Convolutional Neural Network from scratch, without relying on any modern deep learning frameworks such as PyTorch or TensorFlow. My goal is to create a model that can accurately distinguish between Chihuahuas and muffins, ultimately aiming to debunk this meme. </p>"
   ]
  },
  {
   "cell_type": "markdown",
   "id": "756879cf-8868-4a55-875d-a07241a4d1b7",
   "metadata": {},
   "source": [
    "_____________"
   ]
  },
  {
   "cell_type": "markdown",
   "id": "e30967b4-37f5-43f6-ad41-e143110b9bc7",
   "metadata": {},
   "source": [
    "_Import Libraries_"
   ]
  },
  {
   "cell_type": "code",
   "execution_count": 1,
   "id": "0f2be562-3705-46d0-a5c7-3e244b365798",
   "metadata": {},
   "outputs": [],
   "source": [
    "import numpy as np \n",
    "import pandas as pd\n",
    "import matplotlib.pyplot as plt \n",
    "import os\n",
    "from os import listdir\n",
    "import PIL\n",
    "from PIL import Image as im"
   ]
  },
  {
   "cell_type": "markdown",
   "id": "d4a892f5-8859-4881-b1c9-dd6800de756e",
   "metadata": {},
   "source": [
    "-------------------------------------"
   ]
  },
  {
   "attachments": {},
   "cell_type": "markdown",
   "id": "4d7eadef-41a8-47d6-a739-bf38d0d4f39f",
   "metadata": {
    "jp-MarkdownHeadingCollapsed": true
   },
   "source": [
    "### 1 - DATA SETUP"
   ]
  },
  {
   "cell_type": "markdown",
   "id": "58a146d4-489e-42f7-8fc8-0896b86387f6",
   "metadata": {},
   "source": [
    "There are 640 Chihuahua images and 544 Muffin images that are clustered and unlabeled:\n",
    "\n",
    "1. Import these images and convert them into pixel values (x) (numeric data).\n",
    "2. Label these images (y) with its true labels. This can be 0 for Chihuahua and 1 for Muffin.\n",
    "3. Create variables for the image pixels and its corresponding labels.\n",
    "4. Create Train, Validation and Test sets."
   ]
  },
  {
   "attachments": {},
   "cell_type": "markdown",
   "id": "8180200b-2aaa-4c20-b409-c157d383dc84",
   "metadata": {},
   "source": [
    "_Import the images and convert them into pixel values (x) (numeric data)_"
   ]
  },
  {
   "cell_type": "code",
   "execution_count": 2,
   "id": "0b3578d6-58dd-402a-b9f1-944b55f83bfd",
   "metadata": {},
   "outputs": [],
   "source": [
    "chihuahua_dir = r\"C:/Users/asifs/OneDrive/Desktop/Chihuahua X Muffin/dataset/chihuahua\"\n",
    "chimgs = []\n",
    "for image_ in os.listdir(chihuahua_dir):\n",
    "    image_path = os.path.join(chihuahua_dir, image_)\n",
    "    chim = im.open(image_path, 'r')\n",
    "    small = chim.resize((32, 32))\n",
    "    chimgs.append(small)"
   ]
  },
  {
   "cell_type": "code",
   "execution_count": 3,
   "id": "8d9bcc61-c9d3-4ecf-9972-92c169f9fd89",
   "metadata": {},
   "outputs": [],
   "source": [
    "chihuahua_data = np.array(chimgs)"
   ]
  },
  {
   "cell_type": "code",
   "execution_count": 4,
   "id": "ed4937a5-3db1-4697-802c-a0e2dbe15782",
   "metadata": {},
   "outputs": [
    {
     "data": {
      "text/plain": [
       "(639, 32, 32, 3)"
      ]
     },
     "execution_count": 4,
     "metadata": {},
     "output_type": "execute_result"
    }
   ],
   "source": [
    "chihuahua_data.shape"
   ]
  },
  {
   "cell_type": "code",
   "execution_count": 5,
   "id": "8fa5ad2f-0787-44d8-856f-0d6ada408def",
   "metadata": {},
   "outputs": [],
   "source": [
    "muffin_dir = r\"C:/Users/asifs/OneDrive/Desktop/Chihuahua X Muffin/dataset/muffin\"\n",
    "mufimgs = []\n",
    "for image_ in os.listdir(muffin_dir):\n",
    "    image_path = os.path.join(muffin_dir, image_)\n",
    "    mufim = im.open(image_path, 'r')\n",
    "    small = mufim.resize((32, 32))\n",
    "    mufimgs.append(small)"
   ]
  },
  {
   "cell_type": "code",
   "execution_count": 6,
   "id": "2ada1178-e0f5-48a1-9a95-0223cb3d6462",
   "metadata": {},
   "outputs": [],
   "source": [
    "muffin_data = np.array(mufimgs)"
   ]
  },
  {
   "cell_type": "code",
   "execution_count": 7,
   "id": "e7a2646d-ccbc-41db-85db-075a8ac9cda1",
   "metadata": {},
   "outputs": [
    {
     "data": {
      "text/plain": [
       "(543, 32, 32, 3)"
      ]
     },
     "execution_count": 7,
     "metadata": {},
     "output_type": "execute_result"
    }
   ],
   "source": [
    "muffin_data.shape"
   ]
  },
  {
   "attachments": {},
   "cell_type": "markdown",
   "id": "1e4e28f3-72ea-43fa-9efc-bd4afe458ef1",
   "metadata": {},
   "source": [
    "_Label these images (y) with its true labels. This can be 0 for Chihuahua and 1 for Muffin_"
   ]
  },
  {
   "cell_type": "code",
   "execution_count": 8,
   "id": "0983a8f6-c62d-4776-a4e8-3e3e900e6853",
   "metadata": {},
   "outputs": [],
   "source": [
    "c_labels = np.zeros(chihuahua_data.shape[0])\n",
    "m_labels = np.ones(muffin_data.shape[0])"
   ]
  },
  {
   "attachments": {},
   "cell_type": "markdown",
   "id": "57714b1d-15f1-4b2d-a35d-ff843874fb7a",
   "metadata": {},
   "source": [
    "_Create variables for the image pixels and its corresponding labels_"
   ]
  },
  {
   "cell_type": "code",
   "execution_count": 9,
   "id": "78befc21-d99d-4402-8c61-333e4afdcbbb",
   "metadata": {},
   "outputs": [],
   "source": [
    "image_pixels = np.concat((chihuahua_data, muffin_data), axis = 0)\n",
    "labels = np.concat((c_labels, m_labels), axis = 0)"
   ]
  },
  {
   "cell_type": "markdown",
   "id": "fd789aed-2064-4bfa-9fb5-38c176bbfdce",
   "metadata": {},
   "source": [
    "_Create Train, Validation and Test sets_"
   ]
  },
  {
   "cell_type": "code",
   "execution_count": 10,
   "id": "fb269b1b-1cc9-46c5-bbfc-0a92d6c9d32d",
   "metadata": {},
   "outputs": [
    {
     "name": "stdout",
     "output_type": "stream",
     "text": [
      "X_train\t (1000, 32, 32, 3)\n",
      "y_train\t (1000,)\n",
      "X_val\t (91, 32, 32, 3)\n",
      "y_val\t (91,)\n",
      "X_test\t (91, 32, 32, 3)\n",
      "y_test\t (91,)\n"
     ]
    }
   ],
   "source": [
    "# currently the first 639 imgaes are of chihuahuas and the remianing are of muffins.\n",
    "# this will affect the train-val-test split. so we shuffle.\n",
    "\n",
    "indices = np.arange(image_pixels.shape[0])\n",
    "np.random.shuffle(indices)\n",
    "\n",
    "shuffled_image_pixels = image_pixels[indices]\n",
    "shuffled_labels = labels[indices]\n",
    "\n",
    "X_train = shuffled_image_pixels[:1000]\n",
    "X_val = shuffled_image_pixels[1000:1091]\n",
    "X_test = shuffled_image_pixels[1091:]\n",
    "\n",
    "y_train = shuffled_labels[:1000]\n",
    "y_val = shuffled_labels[1000:1091]\n",
    "y_test = shuffled_labels[1091:]\n",
    "\n",
    "print('X_train\\t', X_train.shape)\n",
    "print('y_train\\t', y_train.shape)\n",
    "print('X_val\\t', X_val.shape)\n",
    "print('y_val\\t', y_val.shape)\n",
    "print('X_test\\t', X_test.shape)\n",
    "print('y_test\\t', y_test.shape)"
   ]
  },
  {
   "cell_type": "markdown",
   "id": "fc727767-7351-4334-8696-ccf953a0eba6",
   "metadata": {},
   "source": [
    "------------------------------------"
   ]
  },
  {
   "cell_type": "markdown",
   "id": "b3f111e7-2964-442d-9265-bcd59b0607a4",
   "metadata": {
    "jp-MarkdownHeadingCollapsed": true
   },
   "source": [
    "### 2 - MODEL ARCHITECTURE"
   ]
  },
  {
   "cell_type": "markdown",
   "id": "9989a519-a5d4-4ff6-8fde-7d99619227e1",
   "metadata": {},
   "source": [
    "<p style='text-align: justify;'> My initial plan for the model architecture follows the figure below; the input will be passed through the convolution layer, followed by max pooling and ReLU activation. This will be flattened and passed into the fully connected section. It should be noted that there are only one convolutinal layer and one hidden layer. Also, the outputs are normaized between the ranges of -1 and +1 at two locations; right after flattening and right after the affine layer. Sigmoid activation is applied and binary cross entropy loss is used for calculating the loss. </p>\n",
    "\n",
    "> _<p style='text-align: justify;'> This is just an initial prototype of the model. Changes will be made accordingly in order to improve the performance. These might inlcude adding more colovoutinal layers, adding more hidden layers, applying droupout, applying residual networks, batch normalization, etc. </p>_"
   ]
  },
  {
   "attachments": {
    "cf015318-1195-4b55-b07a-315df6bcd1c1.png": {
     "image/png": "[encoded data removed]"
    }
   },
   "cell_type": "markdown",
   "id": "703620fb-3945-4835-9ac7-229a4983052e",
   "metadata": {},
   "source": [
    "![image.png](attachment:cf015318-1195-4b55-b07a-315df6bcd1c1.png)"
   ]
  },
  {
   "cell_type": "markdown",
   "id": "d8625c3b-1ab7-4511-a1e3-6ee227982b88",
   "metadata": {},
   "source": [
    "_____________________"
   ]
  },
  {
   "cell_type": "markdown",
   "id": "af41345e-f42e-4dae-96d7-5fa55b717a3e",
   "metadata": {},
   "source": [
    "### 3a - MODEL TRAINING | Forward Pass"
   ]
  },
  {
   "cell_type": "markdown",
   "id": "b0700a99-89a8-4001-89b8-5d6f93d81c1a",
   "metadata": {},
   "source": [
    "#### Convolution"
   ]
  },
  {
   "cell_type": "code",
   "execution_count": 11,
   "id": "8ee1d4a9-e5fa-42da-921c-4210410ff191",
   "metadata": {},
   "outputs": [
    {
     "name": "stdout",
     "output_type": "stream",
     "text": [
      "Images Processed: 200\n",
      "Images Processed: 400\n",
      "Images Processed: 600\n",
      "Images Processed: 800\n",
      "Images Processed: 1000\n"
     ]
    }
   ],
   "source": [
    "# so we have X_train, which will be our image matrix of shape (1000, 32, 32, 3).\n",
    "# the filter_weights matrix will pass through the image with a specific stride. \n",
    "# a padding must be set to preserve the dimentions.\n",
    "# 1 conv layer will have 36 filters of size 10 x 10 each.\n",
    "\n",
    "filter_weights = np.random.randn(36, 7, 7, 3)\n",
    "filter_biases = np.random.randn(36,)\n",
    "\n",
    "stride = 1\n",
    "pad = 3\n",
    "image_h, image_w = X_train.shape[1], X_train.shape[2]\n",
    "filter_h, filter_w = filter_weights.shape[1], filter_weights.shape[2]\n",
    "num_images = X_train.shape[0]\n",
    "\n",
    "X_train_padded = np.pad(X_train, ((0, 0), (pad, pad), (pad, pad), (0, 0)), mode = 'constant') # input matrix\n",
    "\n",
    "image_h_out = 1 + (image_h + 2 * pad - filter_h) // stride # formula for calculating height of output \n",
    "image_w_out = 1 + (image_w + 2 * pad - filter_w) // stride # formula for calculating width of output\n",
    "channel_out = filter_weights.shape[0] # output channels\n",
    "\n",
    "out = np.zeros((num_images, image_h_out, image_w_out, channel_out))\n",
    "\n",
    "counter = 0\n",
    "\n",
    "for i in range(num_images):\n",
    "    for j in range(image_h_out):\n",
    "        for k in range(image_w_out):\n",
    "            for l in range(channel_out):\n",
    "                h_start = j * stride # height starting point for filter traversal\n",
    "                h_end = h_start + filter_h # height ending point for filter traversal\n",
    "                w_start = k * stride # width starting point for filter traversal\n",
    "                w_end = w_start + filter_w # width ending point for filter traversal\n",
    "\n",
    "                out[i, j, k, l] = np.sum(X_train_padded[i, h_start:h_end, w_start:w_end, :] * filter_weights[l, :, :, :] * filter_biases[l]) \n",
    "\n",
    "                counter += 1\n",
    "\n",
    "    if (i + 1) % 200 == 0:\n",
    "        print('Images Processed:', i + 1)"
   ]
  },
  {
   "cell_type": "markdown",
   "id": "9b6191d0-f8a1-4193-b7c9-f69109a1ab75",
   "metadata": {},
   "source": [
    "#### Max Pooling"
   ]
  },
  {
   "cell_type": "code",
   "execution_count": 12,
   "id": "4b6709a5-ee20-4faf-a24d-f5aefc52624a",
   "metadata": {},
   "outputs": [
    {
     "name": "stdout",
     "output_type": "stream",
     "text": [
      "Max Pooled Output Shape\t (16, 16, 36)\n"
     ]
    }
   ],
   "source": [
    "pool_h, pool_w = 2, 2 # height and width of pool region\n",
    "stride = 2\n",
    "\n",
    "num_images = out.shape[0] # 1000\n",
    "image_h = out.shape[1] # 32\n",
    "image_w = out.shape[2] # 32\n",
    "num_channels = out.shape[3] # 36\n",
    "\n",
    "pool_h_out = 1 + (image_h - pool_h) // stride # formula for calculating height of pooled output\n",
    "pool_w_out = 1 + (image_w - pool_w) // stride # formula for calculating width of pooled output\n",
    "\n",
    "pooled_out = np.zeros((num_images, pool_h_out, pool_w_out, num_channels))\n",
    "\n",
    "for i in range(num_images):\n",
    "    for j in range(pool_h_out):\n",
    "        for k in range(pool_w_out):\n",
    "            for l in range(num_channels):\n",
    "                pool_h_start = j * stride\n",
    "                pool_h_end = pool_h_start + pool_h\n",
    "                pool_w_start = k * stride\n",
    "                pool_w_end = pool_w_start + pool_w\n",
    "\n",
    "                pool_region = out[i, pool_h_start:pool_h_end, pool_w_start:pool_w_end, l] \n",
    "                pooled_out[i, j, k, l] = np.max(pool_region)\n",
    "\n",
    "print('Max Pooled Output Shape\\t', pooled_out.shape[1:])"
   ]
  },
  {
   "cell_type": "markdown",
   "id": "47df5258-9a7e-4838-9f4a-2076bdccd0b9",
   "metadata": {},
   "source": [
    "#### Flatten"
   ]
  },
  {
   "cell_type": "code",
   "execution_count": 13,
   "id": "0b98e3be-2054-4898-b92a-df31e5c1f487",
   "metadata": {},
   "outputs": [
    {
     "name": "stdout",
     "output_type": "stream",
     "text": [
      "[[  968.57638837   -15.23391558   749.66850789 ...  1803.2994653\n",
      "   2565.96920931  -823.24262218]\n",
      " [ 1408.31545047    15.65185874   445.77765994 ...  2236.80472968\n",
      "   3419.0649862  -1231.14686035]\n",
      " [ 1080.65914736   -13.06159656  1776.22407414 ...  1125.4129596\n",
      "   1927.809397    -781.77888542]\n",
      " ...\n",
      " [ 1267.71497589    11.81214787   584.74150014 ...  2876.28704679\n",
      "   3399.30607709 -1415.78333147]\n",
      " [  568.43806262    -7.95244701   546.70500849 ...   676.84970302\n",
      "    571.01911833  -319.05480939]\n",
      " [  732.74970208    -5.62626995   375.82824739 ...  1312.87504894\n",
      "   2998.91650907  -894.57825852]]\n"
     ]
    }
   ],
   "source": [
    "flat = pooled_out.reshape(1000, -1)\n",
    "print(flat)"
   ]
  },
  {
   "cell_type": "markdown",
   "id": "92d01d12-4c27-4b4f-bc1a-47b9e8069da4",
   "metadata": {},
   "source": [
    "#### Normalization"
   ]
  },
  {
   "cell_type": "code",
   "execution_count": 14,
   "id": "dfdcf7fb-5c09-42fc-9d63-a871c1cf4e21",
   "metadata": {},
   "outputs": [
    {
     "name": "stdout",
     "output_type": "stream",
     "text": [
      "[[-0.06412872 -0.1854521  -0.09112441 ...  0.03880925  0.1328616\n",
      "  -0.28509565]\n",
      " [-0.00990014 -0.18164327 -0.1286002  ...  0.09226907  0.23806528\n",
      "  -0.33539835]\n",
      " [-0.05030668 -0.18518421  0.03547031 ... -0.04478765  0.0541638\n",
      "  -0.27998234]\n",
      " ...\n",
      " [-0.02723898 -0.18211678 -0.11146319 ...  0.17112996  0.23562861\n",
      "  -0.3581677 ]\n",
      " [-0.11347373 -0.18455415 -0.11615385 ... -0.10010442 -0.11315544\n",
      "  -0.22291926]\n",
      " [-0.09321084 -0.18426728 -0.13722635 ... -0.02166984  0.18625261\n",
      "  -0.29389275]]\n"
     ]
    }
   ],
   "source": [
    "flat_norm = 2 * ((flat - flat.min()) / (flat.max() - flat.min())) - 1\n",
    "print(flat_norm)"
   ]
  },
  {
   "cell_type": "markdown",
   "id": "9d931090-e768-4ff8-b6be-fbfcee6cb8c0",
   "metadata": {},
   "source": [
    "#### ReLU Activation"
   ]
  },
  {
   "cell_type": "code",
   "execution_count": 15,
   "id": "0ff2002d-4bb4-4b51-82f4-c2cd5b2fb0d2",
   "metadata": {},
   "outputs": [
    {
     "name": "stdout",
     "output_type": "stream",
     "text": [
      "[[0.         0.         0.         ... 0.03880925 0.1328616  0.        ]\n",
      " [0.         0.         0.         ... 0.09226907 0.23806528 0.        ]\n",
      " [0.         0.         0.03547031 ... 0.         0.0541638  0.        ]\n",
      " ...\n",
      " [0.         0.         0.         ... 0.17112996 0.23562861 0.        ]\n",
      " [0.         0.         0.         ... 0.         0.         0.        ]\n",
      " [0.         0.         0.         ... 0.         0.18625261 0.        ]]\n"
     ]
    }
   ],
   "source": [
    "relu_out = np.maximum(0, flat_norm)\n",
    "print(relu_out)"
   ]
  },
  {
   "cell_type": "markdown",
   "id": "a4502525-32dd-4bba-887d-609aa35dd74c",
   "metadata": {},
   "source": [
    "#### Affine Layer"
   ]
  },
  {
   "cell_type": "code",
   "execution_count": 16,
   "id": "838a3c4b-b8ae-40d6-a3e7-352db4647e4b",
   "metadata": {},
   "outputs": [],
   "source": [
    "# the fully connected section has 1 hidden layer with 50 neurons\n",
    "\n",
    "input_features = relu_out.shape[1] # 9216\n",
    "neurons_layer1 = 50\n",
    "neurons_layer2 = 1\n",
    "\n",
    "w1 = np.random.randn(input_features, neurons_layer1)\n",
    "w2 = np.random.randn(neurons_layer1, neurons_layer2)\n",
    "b1 = np.random.randn(neurons_layer1)\n",
    "b2 = np.random.randn(neurons_layer2)\n",
    "\n",
    "hidden_out = np.dot(relu_out, w1) + b1 # (1000, 9216) -dot- (9216, 50) = (1000, 50)\n",
    "affine_out = np.dot(hidden_out, w2) + b2 # (1000, 50) -dot- (50, 1) = (1000, 1)"
   ]
  },
  {
   "cell_type": "markdown",
   "id": "380ef3b5-a4d3-4ac9-8f0b-f141b4653cc6",
   "metadata": {},
   "source": [
    "#### Normalization "
   ]
  },
  {
   "cell_type": "code",
   "execution_count": 17,
   "id": "08111e9a-1142-4f70-80c4-ea75b274211c",
   "metadata": {},
   "outputs": [],
   "source": [
    "norm_out = 2 * ((affine_out - affine_out.min()) / (affine_out.max() - affine_out.min())) - 1"
   ]
  },
  {
   "cell_type": "markdown",
   "id": "179a3d29-5f74-46ef-936f-d39c84823247",
   "metadata": {},
   "source": [
    "#### Sigmoid Activation"
   ]
  },
  {
   "cell_type": "code",
   "execution_count": 18,
   "id": "bb6f9e07-9c2e-4e43-bdf9-76093aee6323",
   "metadata": {},
   "outputs": [],
   "source": [
    "y_pred = 1.0 / (1.0 + np.exp(-norm_out))"
   ]
  },
  {
   "cell_type": "markdown",
   "id": "2301fc02-85cb-461a-84fb-8c2da9fdeed6",
   "metadata": {},
   "source": [
    "#### Binary Cross-Entropy Loss"
   ]
  },
  {
   "cell_type": "code",
   "execution_count": 19,
   "id": "1fcf4242-563a-450e-9250-e94163425c23",
   "metadata": {},
   "outputs": [
    {
     "name": "stdout",
     "output_type": "stream",
     "text": [
      "Loss: 0.7047923749113689\n"
     ]
    }
   ],
   "source": [
    "epsilon = 1e-15\n",
    "y_true = y_train.reshape(1000, 1)\n",
    "y_pred = np.clip(y_pred, epsilon, 1 - epsilon)\n",
    "loss = - np.sum(y_true * np.log(y_pred) + (1 - y_true) * np.log(1 - y_pred)) / y_true.shape[0]     \n",
    "print('Loss:', loss)"
   ]
  },
  {
   "cell_type": "markdown",
   "id": "99766fb5-ad1d-463d-b31e-6538524c5389",
   "metadata": {},
   "source": [
    "### 3b - MODEL TRAINING | Backpropagation"
   ]
  },
  {
   "cell_type": "markdown",
   "id": "24eb2fd1-2a0d-454e-a539-28be361fe31b",
   "metadata": {},
   "source": [
    "<p style='text-align:justify'> The goal here is to calculate the gradient of the loss with respect to the input variables. This includes the inputs to the affine layer (weights and biases) and the inputs to the convolutional layer (filter weights and filter biases). To achieve this, intermediate gradients must be calculated. Finally, by applying the chain rule, we can obtain the gradients of the loss with respect to the respective inputs. </p>"
   ]
  },
  {
   "cell_type": "markdown",
   "id": "6220b777-c9e9-448f-a302-27c8bcd4e1be",
   "metadata": {},
   "source": [
    "#### Gradient of Loss w.r.t Activated Output"
   ]
  },
  {
   "cell_type": "code",
   "execution_count": 20,
   "id": "4c5afc56-d6e3-41e2-8eff-6ad4be1fd480",
   "metadata": {},
   "outputs": [],
   "source": [
    "grad_loss_wrt_aco = - (y_true / y_pred) + ((1 - y_true) / (1 - y_pred))"
   ]
  },
  {
   "cell_type": "markdown",
   "id": "c4be85b0-1d2b-40b4-88c4-52c90644d103",
   "metadata": {},
   "source": [
    "#### Gradient of Activated Output w.r.t Normalized Output"
   ]
  },
  {
   "cell_type": "code",
   "execution_count": 21,
   "id": "1336fda6-cb13-4675-aa17-e5dd597c0b73",
   "metadata": {},
   "outputs": [],
   "source": [
    "grad_aco_wrt_no = np.exp(-norm_out) / (1 + np.exp(-norm_out)) ** 2"
   ]
  },
  {
   "cell_type": "markdown",
   "id": "68a9a17d-acaa-4c83-9c0b-874d78de067e",
   "metadata": {},
   "source": [
    "#### Gradient of Normalized Output w.r.t Affine Output"
   ]
  },
  {
   "cell_type": "code",
   "execution_count": 22,
   "id": "5a1cf6cd-2cfa-4a10-a72b-99f706a252f7",
   "metadata": {},
   "outputs": [],
   "source": [
    "grad_no_wrt_afo_scalar = 2 / (affine_out.max() - affine_out.min())\n",
    "grad_no_wrt_afo = np.full_like(affine_out, grad_no_wrt_afo_scalar)"
   ]
  },
  {
   "cell_type": "markdown",
   "id": "feb83607-a3c9-44ad-bcb7-e6ea604915a1",
   "metadata": {},
   "source": [
    "> <p style='text-align:justify'> Now we need to calculate the gradient of The Affine Output w.r.t the Hidden Output, W2, and b2. But before calculating these gradients, we need to calculate the gradient of the Loss w.r.t the Affine Output as this will give the information on how the affine output affects the loss, which is used to update the weights and biases during training, specifically in this case, W2 and b2. </p>"
   ]
  },
  {
   "cell_type": "markdown",
   "id": "ca083f19-f5a0-4ea4-b2ac-b0c5d334898c",
   "metadata": {},
   "source": [
    "#### Gradient of Loss w.r.t Affine Output"
   ]
  },
  {
   "cell_type": "code",
   "execution_count": 23,
   "id": "20c69899-6c41-47a0-8252-6b07308dfb58",
   "metadata": {},
   "outputs": [],
   "source": [
    "grad_loss_wrt_afo = grad_loss_wrt_aco * grad_aco_wrt_no * grad_no_wrt_afo"
   ]
  },
  {
   "cell_type": "markdown",
   "id": "2da20eaf-5cb9-46df-9fdc-2962936f7e07",
   "metadata": {},
   "source": [
    "#### Gradient of Affine Output w.r.t:\n",
    "1. Hidden Output\n",
    "2. W2\n",
    "3. B2"
   ]
  },
  {
   "cell_type": "code",
   "execution_count": 24,
   "id": "877320cf-7d36-4b32-9d4a-04be4f714668",
   "metadata": {},
   "outputs": [],
   "source": [
    "# gradient of affine output w.r.t hidden output\n",
    "grad_afo_wrt_ho = np.dot(grad_loss_wrt_afo, w2.T)\n",
    "\n",
    "# gradient of affine output w.r.t w2\n",
    "grad_afo_wrt_w2 = np.dot(hidden_out.T, grad_loss_wrt_afo)\n",
    "\n",
    "# gradient of affine output w.r.t b2\n",
    "grad_afo_wrt_b2 = np.sum(grad_loss_wrt_afo, axis = 0)"
   ]
  },
  {
   "cell_type": "markdown",
   "id": "854fe8c6-2033-4ebe-aa55-dce10345c595",
   "metadata": {},
   "source": [
    "> <p style='text-align:justify'> Now we need to calculate the gradient of The Hidden Output w.r.t the Normalized Flattened Output, W1, and b1. But before calculating these gradients, we need to calculate the gradient of the Loss w.r.t the Hidden Output as this will give the information on how the hidden layer affects the loss, which is used to update the weights and biases during training, specifically in this case, W1 and b1. Since we have calculated the gradient of the Loss w.r.t the Affine Output earlier, we just need to multiply that with the Gradient of the Affine Output w.r.t the Hidden Output to get the gradient of the Hidden Output w.r.t the Loss. </p>"
   ]
  },
  {
   "cell_type": "markdown",
   "id": "2d97b4a2-f55f-4d79-af9e-02602e6abce9",
   "metadata": {},
   "source": [
    "#### Gradient of Loss w.r.t Hidden Output"
   ]
  },
  {
   "cell_type": "code",
   "execution_count": 25,
   "id": "6c9b2a89-9086-40f0-b125-98966dff83a6",
   "metadata": {},
   "outputs": [],
   "source": [
    "grad_loss_wrt_ho = grad_loss_wrt_afo * grad_afo_wrt_ho"
   ]
  },
  {
   "cell_type": "markdown",
   "id": "4269d536-d340-4331-a167-15e7d77c9d2d",
   "metadata": {},
   "source": [
    "#### Gradient of Hidden Output w.r.t:\n",
    "1. Activated Flattened Output\n",
    "2. W1\n",
    "3. B1"
   ]
  },
  {
   "cell_type": "code",
   "execution_count": 26,
   "id": "5671247e-4315-469d-a464-1c9f56cf46f7",
   "metadata": {},
   "outputs": [],
   "source": [
    "# gradient of hidden output w.r.t activated flattened output\n",
    "grad_ho_wrt_afo = np.dot(grad_loss_wrt_ho, w1.T)\n",
    "\n",
    "# gradient of hidden output w.r.t w1\n",
    "grad_ho_wrt_w1 = np.dot(flat_norm.T, grad_loss_wrt_ho)\n",
    "\n",
    "# gradient of hidden output w.r.t b1\n",
    "grad_ho_wrt_b1 = np.sum(grad_loss_wrt_ho, axis = 0)"
   ]
  },
  {
   "cell_type": "markdown",
   "id": "d5b92b92-4c62-4ce7-9c14-d9bd156079a8",
   "metadata": {},
   "source": [
    "#### Gradient of Activated Flattened Output w.r.t Normalized Flattened Output"
   ]
  },
  {
   "cell_type": "code",
   "execution_count": 27,
   "id": "f9a59d78-dbde-4b7d-9bea-27d3ec0bc048",
   "metadata": {},
   "outputs": [],
   "source": [
    "grad_afo_wrt_nfo = np.where(flat_norm > 0, 1, 0)"
   ]
  },
  {
   "cell_type": "markdown",
   "id": "85cdfff4-f93c-4ee5-85f7-6f3592cc548b",
   "metadata": {},
   "source": [
    "#### Gradient of Normalized Flattened Output w.r.t Flattened Output"
   ]
  },
  {
   "cell_type": "code",
   "execution_count": 28,
   "id": "70e09c99-4e0f-47b2-9ece-cd92d9efd6ad",
   "metadata": {},
   "outputs": [],
   "source": [
    "grad_nfo_wrt_fo_scalar = 2 / (flat.max() - flat.min())\n",
    "grad_nfo_wrt_fo = np.full_like(flat, grad_nfo_wrt_fo_scalar)"
   ]
  },
  {
   "cell_type": "markdown",
   "id": "c6c30909-cf9e-439a-b3cb-eb1a4a5bdda6",
   "metadata": {},
   "source": [
    "#### Gradient of Flattened Output w.r.t. Max-Pool Output\n",
    "\n",
    "Here, there isn't any computation, we simply reshape the gradient back to the shape of the max-pool output."
   ]
  },
  {
   "cell_type": "code",
   "execution_count": 29,
   "id": "8686021b-b60b-4739-abce-6e57b5ba75cc",
   "metadata": {},
   "outputs": [],
   "source": [
    "grad_fo_wrt_mpo = grad_nfo_wrt_fo.reshape(1000, 16, 16, 36)"
   ]
  },
  {
   "cell_type": "markdown",
   "id": "887a035f-aa57-41ce-891a-d74e7baa95f8",
   "metadata": {},
   "source": [
    "#### Gradient of Max-Pooled Output w.r.t Convolution Out"
   ]
  },
  {
   "cell_type": "code",
   "execution_count": 30,
   "id": "b0987f3c-ac22-4f95-8de3-95a6db4368f6",
   "metadata": {},
   "outputs": [],
   "source": [
    "pool_h, pool_w = 2, 2 # height and width of pool region\n",
    "stride = 2\n",
    "\n",
    "num_images = pooled_out.shape[0]\n",
    "image_h = pooled_out.shape[1]\n",
    "image_w = pooled_out.shape[2]\n",
    "num_channels = pooled_out.shape[3]\n",
    "\n",
    "pool_h_out = 1 + (image_h - pool_h) // stride # formula for calculating height of pooled output\n",
    "pool_w_out = 1 + (image_w - pool_w) // stride # formula for calculating width of pooled output\n",
    "\n",
    "grad_mpo_wrt_co = np.zeros((num_images, image_h, image_w, num_channels))\n",
    "\n",
    "for i in range(num_images):\n",
    "    for j in range(pool_h_out):\n",
    "        for k in range(pool_w_out):\n",
    "            for l in range(num_channels):\n",
    "                pool_h_start = j * stride\n",
    "                pool_h_end = pool_h_start + pool_h\n",
    "                pool_w_start = k * stride\n",
    "                pool_w_end = pool_w_start + pool_w\n",
    "    \n",
    "                pool_region = pooled_out[i, pool_h_start:pool_h_end, pool_w_start:pool_w_end, l]\n",
    "                max_window = np.max(pool_region)\n",
    "                mask = (pool_region == max_window)\n",
    "    \n",
    "                grad_mpo_wrt_co[i, pool_h_start:pool_h_end, pool_w_start:pool_w_end, l] += mask * grad_fo_wrt_mpo[i, j, k, l]"
   ]
  },
  {
   "cell_type": "markdown",
   "id": "a0ad3518-3c47-4dd4-b5ef-8cdc954b1c42",
   "metadata": {},
   "source": [
    "#### Gradient of Convolution Output w.r.t Filter Weights & Biases"
   ]
  },
  {
   "cell_type": "code",
   "execution_count": 31,
   "id": "c1c79b78-02c1-4173-b06f-78b9a36eeb77",
   "metadata": {},
   "outputs": [],
   "source": [
    "X_train = X_train.astype(np.float64)\n",
    "filter_weights = filter_weights.astype(np.float64)\n",
    "\n",
    "stride = 1\n",
    "pad = 3\n",
    "\n",
    "image_h_out = grad_mpo_wrt_co.shape[1]\n",
    "image_w_out = grad_mpo_wrt_co.shape[2]\n",
    "\n",
    "num_images = X_train.shape[0]\n",
    "filter_h = filter_weights.shape[1]\n",
    "filter_w = filter_weights.shape[2]\n",
    "num_filters = filter_weights.shape[0]\n",
    "\n",
    "grad_co_wrt_input = np.zeros_like(X_train)\n",
    "grad_co_wrt_fw = np.zeros_like(filter_weights)\n",
    "grad_co_wrt_fb = np.zeros_like(filter_biases)\n",
    "\n",
    "input_padded = np.pad(X_train, ((0, 0), (pad, pad), (pad, pad), (0, 0)), mode = 'constant')\n",
    "grad_co_wrt_input_padded = np.pad(grad_co_wrt_input, ((0, 0), (pad, pad), (pad, pad), (0, 0)), mode = 'constant')\n",
    "\n",
    "grad_co_wrt_fb = np.sum(grad_mpo_wrt_co, axis = (0, 1, 2))\n",
    "\n",
    "for i in range(num_images):\n",
    "  for j in range(image_h_out):\n",
    "    for k in range(image_w_out):\n",
    "      for l in range(num_filters):\n",
    "        h_start = j * stride\n",
    "        h_end = h_start + filter_h\n",
    "        w_start = k * stride\n",
    "        w_end = w_start + filter_w\n",
    "\n",
    "        grad_co_wrt_fw[j] += input_padded[i, h_start:h_end, w_start:w_end, :] * grad_mpo_wrt_co[i, j, k, l]\n",
    "        grad_co_wrt_input_padded[i, h_start:h_end, w_start:w_end, :] += filter_weights[j] * grad_mpo_wrt_co[i, j, k, l]\n",
    "\n",
    "# to remove padding, if applied\n",
    "if pad != 0:\n",
    "  grad_co_wrt_input = grad_co_wrt_input_padded[:, pad:-pad, pad:-pad, :]\n",
    "else:\n",
    "  grad_co_wrt_input = grad_co_wrt_input_padded"
   ]
  },
  {
   "cell_type": "markdown",
   "id": "066f134f-ee4e-4395-a1c6-16a80a64d962",
   "metadata": {},
   "source": [
    "<p style='text-align:justify'> Now we need to calculate the gradients of the Loss with respect to all the different parameters. These are the filter weights and filter biases applied over the convolutional layer and the weights and bises applied over the affine layer; w1, b1, w2 and b2. For this, we need ot muliply all the respective intermediate gradients for each of those parametrs to get th final gradient based on the concept of chain rule. </p>"
   ]
  },
  {
   "cell_type": "markdown",
   "id": "4d74abad-abbc-40f4-abf7-10528b0410ab",
   "metadata": {},
   "source": [
    "### 3c- MODEL TRAINING | Updating Parameters"
   ]
  },
  {
   "cell_type": "markdown",
   "id": "9a50d737-810b-4787-8e98-c9035bd3a8ba",
   "metadata": {},
   "source": [
    "<p style='text-align:justify'> Now that we have completed exactly one iteration, we have to repeat this, but by adjusting the weigths and biases based on a learning rate. This is done by subtracting the originally initialized parameter, with the learning rate multiplyed by the gradient of that parameter. </p>\n",
    "\n",
    "$$\n",
    "\\text{parameter} = \\text{parameter} - \\text{learning rate} \\times \\text{gradient of parameter}\n",
    "$$\n",
    "\n",
    "<p style='text-align:justify'> The weights and biases include fw & fb, which are the parameters involved in the convolutional layer, followed by w1, b1, w2 & b2, which are the parameters involved in the affine layer. </p>"
   ]
  },
  {
   "cell_type": "code",
   "execution_count": null,
   "id": "acab1757-809d-4a2e-aa26-3b5c5d9a5fa8",
   "metadata": {},
   "outputs": [],
   "source": []
  }
 ],
 "metadata": {
  "kernelspec": {
   "display_name": "Python 3 (ipykernel)",
   "language": "python",
   "name": "python3"
  },
  "language_info": {
   "codemirror_mode": {
    "name": "ipython",
    "version": 3
   },
   "file_extension": ".py",
   "mimetype": "text/x-python",
   "name": "python",
   "nbconvert_exporter": "python",
   "pygments_lexer": "ipython3",
   "version": "3.12.4"
  }
 },
 "nbformat": 4,
 "nbformat_minor": 5
}
